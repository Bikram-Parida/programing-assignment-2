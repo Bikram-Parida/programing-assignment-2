{
 "cells": [
  {
   "cell_type": "markdown",
   "id": "bae77d79-2a70-4de2-843b-372c6525205e",
   "metadata": {},
   "source": [
    "# 1. Write a Python program to convert kilometers to miles?"
   ]
  },
  {
   "cell_type": "code",
   "execution_count": 1,
   "id": "07e4b383-729f-4eff-b524-9887a409a316",
   "metadata": {},
   "outputs": [
    {
     "name": "stdin",
     "output_type": "stream",
     "text": [
      "Enter kilometer 5\n"
     ]
    },
    {
     "name": "stdout",
     "output_type": "stream",
     "text": [
      "Miles is 3.106855\n"
     ]
    }
   ],
   "source": [
    "km=int(input(\"Enter kilometer\"))\n",
    "miles=km*0.621371\n",
    "print(\"Miles is\",miles)"
   ]
  },
  {
   "cell_type": "markdown",
   "id": "154dd1b4-0b3a-4ffc-a124-e4be8e4bfd61",
   "metadata": {},
   "source": [
    "# 2. Write a Python program to convert Celsius to Fahrenheit?"
   ]
  },
  {
   "cell_type": "code",
   "execution_count": 2,
   "id": "a2fcfe68-6c6b-409a-889c-cec5b5671a36",
   "metadata": {},
   "outputs": [
    {
     "name": "stdin",
     "output_type": "stream",
     "text": [
      "Enter celsius 1\n"
     ]
    },
    {
     "name": "stdout",
     "output_type": "stream",
     "text": [
      "farhenheit is 33.8\n"
     ]
    }
   ],
   "source": [
    "celsius=int(input(\"Enter celsius\"))\n",
    "farhenheit=celsius*33.8\n",
    "print(\"farhenheit is\",farhenheit)"
   ]
  },
  {
   "cell_type": "markdown",
   "id": "3ce0272b-109c-452e-8570-91c164266c0e",
   "metadata": {},
   "source": [
    "# 3. Write a Python program to display calendar?"
   ]
  },
  {
   "cell_type": "code",
   "execution_count": 1,
   "id": "e4ecafe7-3cba-46eb-9ce4-e7cc5b1195c9",
   "metadata": {},
   "outputs": [
    {
     "name": "stdin",
     "output_type": "stream",
     "text": [
      "Enter year 2025\n"
     ]
    },
    {
     "name": "stdout",
     "output_type": "stream",
     "text": [
      "                                  2025\n",
      "\n",
      "      January                   February                   March\n",
      "Mo Tu We Th Fr Sa Su      Mo Tu We Th Fr Sa Su      Mo Tu We Th Fr Sa Su\n",
      "       1  2  3  4  5                      1  2                      1  2\n",
      " 6  7  8  9 10 11 12       3  4  5  6  7  8  9       3  4  5  6  7  8  9\n",
      "13 14 15 16 17 18 19      10 11 12 13 14 15 16      10 11 12 13 14 15 16\n",
      "20 21 22 23 24 25 26      17 18 19 20 21 22 23      17 18 19 20 21 22 23\n",
      "27 28 29 30 31            24 25 26 27 28            24 25 26 27 28 29 30\n",
      "                                                    31\n",
      "\n",
      "       April                      May                       June\n",
      "Mo Tu We Th Fr Sa Su      Mo Tu We Th Fr Sa Su      Mo Tu We Th Fr Sa Su\n",
      "    1  2  3  4  5  6                1  2  3  4                         1\n",
      " 7  8  9 10 11 12 13       5  6  7  8  9 10 11       2  3  4  5  6  7  8\n",
      "14 15 16 17 18 19 20      12 13 14 15 16 17 18       9 10 11 12 13 14 15\n",
      "21 22 23 24 25 26 27      19 20 21 22 23 24 25      16 17 18 19 20 21 22\n",
      "28 29 30                  26 27 28 29 30 31         23 24 25 26 27 28 29\n",
      "                                                    30\n",
      "\n",
      "        July                     August                  September\n",
      "Mo Tu We Th Fr Sa Su      Mo Tu We Th Fr Sa Su      Mo Tu We Th Fr Sa Su\n",
      "    1  2  3  4  5  6                   1  2  3       1  2  3  4  5  6  7\n",
      " 7  8  9 10 11 12 13       4  5  6  7  8  9 10       8  9 10 11 12 13 14\n",
      "14 15 16 17 18 19 20      11 12 13 14 15 16 17      15 16 17 18 19 20 21\n",
      "21 22 23 24 25 26 27      18 19 20 21 22 23 24      22 23 24 25 26 27 28\n",
      "28 29 30 31               25 26 27 28 29 30 31      29 30\n",
      "\n",
      "      October                   November                  December\n",
      "Mo Tu We Th Fr Sa Su      Mo Tu We Th Fr Sa Su      Mo Tu We Th Fr Sa Su\n",
      "       1  2  3  4  5                      1  2       1  2  3  4  5  6  7\n",
      " 6  7  8  9 10 11 12       3  4  5  6  7  8  9       8  9 10 11 12 13 14\n",
      "13 14 15 16 17 18 19      10 11 12 13 14 15 16      15 16 17 18 19 20 21\n",
      "20 21 22 23 24 25 26      17 18 19 20 21 22 23      22 23 24 25 26 27 28\n",
      "27 28 29 30 31            24 25 26 27 28 29 30      29 30 31\n",
      "\n"
     ]
    }
   ],
   "source": [
    "import calendar\n",
    "years=int(input(\"Enter year\"))\n",
    "print(calendar.calendar(years))"
   ]
  },
  {
   "cell_type": "markdown",
   "id": "4560c1b3-0b14-43cf-99c0-6bbf99675803",
   "metadata": {},
   "source": [
    "# 4. Write a Python program to solve quadratic equation?"
   ]
  },
  {
   "cell_type": "code",
   "execution_count": 7,
   "id": "bb280031-1b3d-4634-be73-967443073bc5",
   "metadata": {},
   "outputs": [
    {
     "name": "stdout",
     "output_type": "stream",
     "text": [
      "Quadratic Equation is 30\n"
     ]
    }
   ],
   "source": [
    "ax=5\n",
    "bx=2\n",
    "c=3\n",
    "Quadratic_Equation=ax**2+bx+c\n",
    "print(\"Quadratic Equation is\",Quadratic_Equation)"
   ]
  },
  {
   "cell_type": "markdown",
   "id": "743e3cf7-d38a-4408-8787-3962f6863f28",
   "metadata": {},
   "source": [
    "# 5. Write a Python program to swap two variables without temp variable?"
   ]
  },
  {
   "cell_type": "code",
   "execution_count": 8,
   "id": "e6881273-850a-4e52-8477-ed25e6cdd19b",
   "metadata": {},
   "outputs": [
    {
     "name": "stdout",
     "output_type": "stream",
     "text": [
      "Swap value of a is 2\n",
      "Swap value of b is 1\n"
     ]
    }
   ],
   "source": [
    "a=1\n",
    "b=2\n",
    "c=a\n",
    "a=b\n",
    "b=c\n",
    "print(\"Swap value of a is\",a)\n",
    "print(\"Swap value of b is\",b)"
   ]
  },
  {
   "cell_type": "code",
   "execution_count": null,
   "id": "8e350c5d-0908-4fd9-a648-1ffe048924fa",
   "metadata": {},
   "outputs": [],
   "source": []
  }
 ],
 "metadata": {
  "kernelspec": {
   "display_name": "Python 3 (ipykernel)",
   "language": "python",
   "name": "python3"
  },
  "language_info": {
   "codemirror_mode": {
    "name": "ipython",
    "version": 3
   },
   "file_extension": ".py",
   "mimetype": "text/x-python",
   "name": "python",
   "nbconvert_exporter": "python",
   "pygments_lexer": "ipython3",
   "version": "3.12.5"
  }
 },
 "nbformat": 4,
 "nbformat_minor": 5
}
